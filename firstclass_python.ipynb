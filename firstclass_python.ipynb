{
 "cells": [
  {
   "cell_type": "code",
   "execution_count": null,
   "id": "4fa60bd3-8105-4065-9734-61a52ccefd72",
   "metadata": {},
   "outputs": [],
   "source": [
    "# variable declaration \n",
    "# printing in python\n",
    "# comments - single line and multi line\n",
    "# case sensitiveness\n",
    "# whitespace\n",
    "# knowing the datatype\n",
    "# multiple variable decalaration\n",
    "# typecasting\n",
    "# format \n",
    "# operators"
   ]
  },
  {
   "cell_type": "raw",
   "id": "6d6d20de-8421-4474-9147-4085829dd5c1",
   "metadata": {},
   "source": [
    "variable declaration"
   ]
  },
  {
   "cell_type": "code",
   "execution_count": 2,
   "id": "0398cf12-5116-42f2-b834-12ab7c759c01",
   "metadata": {},
   "outputs": [
    {
     "name": "stdout",
     "output_type": "stream",
     "text": [
      "10\n",
      "4.5\n",
      "hi\n",
      "welcome\n"
     ]
    }
   ],
   "source": [
    "a =10\n",
    "b=4.5\n",
    "c='hi'\n",
    "d = \"welcome\"\n",
    "\n",
    "print(a)\n",
    "print(b)\n",
    "print(c)\n",
    "print(d)"
   ]
  },
  {
   "cell_type": "code",
   "execution_count": 3,
   "id": "ab1157dd-3931-46c3-8b5d-3e24cf289dd2",
   "metadata": {},
   "outputs": [
    {
     "name": "stdout",
     "output_type": "stream",
     "text": [
      "python\n"
     ]
    }
   ],
   "source": [
    "name = \"python\"\n",
    "\n",
    "print(name)"
   ]
  },
  {
   "cell_type": "markdown",
   "id": "8ec978f7-81e5-4269-b709-de7a63511b6b",
   "metadata": {},
   "source": [
    "Printing in python"
   ]
  },
  {
   "cell_type": "code",
   "execution_count": 4,
   "id": "24fa7564-a6cb-432e-a8c8-8dcfbb6ad41f",
   "metadata": {},
   "outputs": [
    {
     "name": "stdout",
     "output_type": "stream",
     "text": [
      "welcome\n"
     ]
    }
   ],
   "source": [
    "print('welcome')"
   ]
  },
  {
   "cell_type": "code",
   "execution_count": 5,
   "id": "c79b190d-d2a0-4167-acd3-d27b8079d33c",
   "metadata": {},
   "outputs": [
    {
     "name": "stdout",
     "output_type": "stream",
     "text": [
      "good morning\n"
     ]
    }
   ],
   "source": [
    "print('good morning')"
   ]
  },
  {
   "cell_type": "code",
   "execution_count": 7,
   "id": "2d1ba093-e92a-4085-b533-8d040bf85ecb",
   "metadata": {},
   "outputs": [
    {
     "name": "stdout",
     "output_type": "stream",
     "text": [
      "hello rohit\n"
     ]
    }
   ],
   "source": [
    "name = 'rohit'\n",
    "\n",
    "print('hello',name) # concatenation ,"
   ]
  },
  {
   "cell_type": "code",
   "execution_count": 8,
   "id": "21b44384-bebc-4b2a-9f3c-e34fbc3372ed",
   "metadata": {},
   "outputs": [
    {
     "name": "stdout",
     "output_type": "stream",
     "text": [
      "rohit is studying python and got 1 rank\n"
     ]
    }
   ],
   "source": [
    "name ='rohit'\n",
    "course = 'python'\n",
    "rank = 1\n",
    "\n",
    "# rohit is studying python and got 1 rank\n",
    "\n",
    "print(name,'is studying',course,'and got',rank,'rank')\n"
   ]
  },
  {
   "cell_type": "code",
   "execution_count": 9,
   "id": "977f53e5-68fd-4634-923a-1e55a3cbf479",
   "metadata": {},
   "outputs": [
    {
     "name": "stdout",
     "output_type": "stream",
     "text": [
      "the answer is  46\n"
     ]
    }
   ],
   "source": [
    "a=12\n",
    "b=34\n",
    "c=a+b\n",
    "\n",
    "print('the answer is ',c)"
   ]
  },
  {
   "cell_type": "code",
   "execution_count": null,
   "id": "7105a705-7786-48d0-99d9-927c3d7d0d1f",
   "metadata": {},
   "outputs": [],
   "source": [
    "datatype \n",
    "\n",
    "number - int - wholenumber \n",
    "float  - 4.5\n",
    "string - '' or \"\""
   ]
  },
  {
   "cell_type": "raw",
   "id": "1689087c-da5a-4a2d-9529-8b5af2c5585a",
   "metadata": {},
   "source": [
    "comments"
   ]
  },
  {
   "cell_type": "code",
   "execution_count": 10,
   "id": "a049748d-998a-4c50-91bb-992b96c4ac87",
   "metadata": {},
   "outputs": [
    {
     "name": "stdout",
     "output_type": "stream",
     "text": [
      "44\n"
     ]
    }
   ],
   "source": [
    "a=10\n",
    "b=34\n",
    "c=a+b # a and b are added\n",
    "print(c)"
   ]
  },
  {
   "cell_type": "code",
   "execution_count": null,
   "id": "593e35dc-1dda-44e3-805b-c4c8d6b81d82",
   "metadata": {},
   "outputs": [],
   "source": [
    "''''dfygdfgdhfh\n",
    "fhgdhfdfgdf\n",
    "fhdfdgdhf'''  "
   ]
  },
  {
   "cell_type": "raw",
   "id": "92f988ee-86ae-418c-b5d3-aaf473adbe42",
   "metadata": {},
   "source": [
    "case sensitiveness - uppercase , lowercase ,capitialize"
   ]
  },
  {
   "cell_type": "code",
   "execution_count": 11,
   "id": "b22a53c0-fa35-494f-972f-d9dba036a0e7",
   "metadata": {},
   "outputs": [
    {
     "ename": "NameError",
     "evalue": "name 'A' is not defined",
     "output_type": "error",
     "traceback": [
      "\u001b[1;31m--------------------------------------------------------------------------\u001b[0m",
      "\u001b[1;31mNameError\u001b[0m                                Traceback (most recent call last)",
      "Cell \u001b[1;32mIn[11], line 2\u001b[0m\n\u001b[0;32m      1\u001b[0m a\u001b[38;5;241m=\u001b[39m\u001b[38;5;241m10\u001b[39m\n\u001b[1;32m----> 2\u001b[0m \u001b[38;5;28mprint\u001b[39m(A)\n",
      "\u001b[1;31mNameError\u001b[0m: name 'A' is not defined"
     ]
    }
   ],
   "source": [
    "a=10\n",
    "print(A)\n"
   ]
  },
  {
   "cell_type": "code",
   "execution_count": 12,
   "id": "3957ceba-2dfd-4e19-b6c8-f166692bab5c",
   "metadata": {},
   "outputs": [
    {
     "name": "stdout",
     "output_type": "stream",
     "text": [
      "45\n"
     ]
    }
   ],
   "source": [
    "A=45\n",
    "print(A)\n"
   ]
  },
  {
   "cell_type": "code",
   "execution_count": 13,
   "id": "426eff1e-dac8-458e-8670-5a245333c8a9",
   "metadata": {},
   "outputs": [
    {
     "name": "stdout",
     "output_type": "stream",
     "text": [
      "chennai\n"
     ]
    }
   ],
   "source": [
    "print('chennai')"
   ]
  },
  {
   "cell_type": "code",
   "execution_count": 14,
   "id": "d202a425-1a26-4ef8-b0c8-af448e9b82ce",
   "metadata": {},
   "outputs": [
    {
     "ename": "NameError",
     "evalue": "name 'Print' is not defined",
     "output_type": "error",
     "traceback": [
      "\u001b[1;31m--------------------------------------------------------------------------\u001b[0m",
      "\u001b[1;31mNameError\u001b[0m                                Traceback (most recent call last)",
      "Cell \u001b[1;32mIn[14], line 1\u001b[0m\n\u001b[1;32m----> 1\u001b[0m Print(\u001b[38;5;124m'\u001b[39m\u001b[38;5;124mdelhi\u001b[39m\u001b[38;5;124m'\u001b[39m)\n",
      "\u001b[1;31mNameError\u001b[0m: name 'Print' is not defined"
     ]
    }
   ],
   "source": [
    "Print('delhi')"
   ]
  },
  {
   "cell_type": "raw",
   "id": "d0526f71-b61d-47df-8159-9fb854130763",
   "metadata": {},
   "source": [
    "whitespace in python"
   ]
  },
  {
   "cell_type": "code",
   "execution_count": 15,
   "id": "90d91e11-c3a6-47d2-b3b9-fba4ff9509a0",
   "metadata": {},
   "outputs": [
    {
     "name": "stdout",
     "output_type": "stream",
     "text": [
      "10\n",
      "20\n",
      "30\n"
     ]
    }
   ],
   "source": [
    "a=10\n",
    "b=20\n",
    "c=                              30\n",
    "\n",
    "\n",
    "print(a)\n",
    "print(b)\n",
    "print(c)"
   ]
  },
  {
   "cell_type": "code",
   "execution_count": 16,
   "id": "7747b031-d18d-43c1-8506-c9af38b2244b",
   "metadata": {},
   "outputs": [
    {
     "name": "stdout",
     "output_type": "stream",
     "text": [
      "       40\n"
     ]
    }
   ],
   "source": [
    "a=\"       40\"\n",
    "\n",
    "print(a)"
   ]
  },
  {
   "cell_type": "raw",
   "id": "841f2867-17ef-4dee-9506-0ce2b3c0cd5b",
   "metadata": {},
   "source": [
    "knowing the datatype"
   ]
  },
  {
   "cell_type": "code",
   "execution_count": 20,
   "id": "c8357e7d-9f95-4a75-9768-f29a5e94b3d3",
   "metadata": {},
   "outputs": [
    {
     "name": "stdout",
     "output_type": "stream",
     "text": [
      "<class 'int'>\n",
      "<class 'float'>\n",
      "<class 'str'>\n",
      "<class 'str'>\n"
     ]
    }
   ],
   "source": [
    "a=12\n",
    "b=4.5\n",
    "c='hi'\n",
    "d=\"hello\"\n",
    "\n",
    "\n",
    "print(type(a))\n",
    "print(type(b))\n",
    "print(type(c))\n",
    "print(type(d))"
   ]
  },
  {
   "cell_type": "code",
   "execution_count": 21,
   "id": "a86e5335-648d-4ee5-9aef-08b2229a557d",
   "metadata": {},
   "outputs": [
    {
     "data": {
      "text/plain": [
       "['__add__',\n",
       " '__class__',\n",
       " '__contains__',\n",
       " '__delattr__',\n",
       " '__dir__',\n",
       " '__doc__',\n",
       " '__eq__',\n",
       " '__format__',\n",
       " '__ge__',\n",
       " '__getattribute__',\n",
       " '__getitem__',\n",
       " '__getnewargs__',\n",
       " '__getstate__',\n",
       " '__gt__',\n",
       " '__hash__',\n",
       " '__init__',\n",
       " '__init_subclass__',\n",
       " '__iter__',\n",
       " '__le__',\n",
       " '__len__',\n",
       " '__lt__',\n",
       " '__mod__',\n",
       " '__mul__',\n",
       " '__ne__',\n",
       " '__new__',\n",
       " '__reduce__',\n",
       " '__reduce_ex__',\n",
       " '__repr__',\n",
       " '__rmod__',\n",
       " '__rmul__',\n",
       " '__setattr__',\n",
       " '__sizeof__',\n",
       " '__str__',\n",
       " '__subclasshook__',\n",
       " 'capitalize',\n",
       " 'casefold',\n",
       " 'center',\n",
       " 'count',\n",
       " 'encode',\n",
       " 'endswith',\n",
       " 'expandtabs',\n",
       " 'find',\n",
       " 'format',\n",
       " 'format_map',\n",
       " 'index',\n",
       " 'isalnum',\n",
       " 'isalpha',\n",
       " 'isascii',\n",
       " 'isdecimal',\n",
       " 'isdigit',\n",
       " 'isidentifier',\n",
       " 'islower',\n",
       " 'isnumeric',\n",
       " 'isprintable',\n",
       " 'isspace',\n",
       " 'istitle',\n",
       " 'isupper',\n",
       " 'join',\n",
       " 'ljust',\n",
       " 'lower',\n",
       " 'lstrip',\n",
       " 'maketrans',\n",
       " 'partition',\n",
       " 'removeprefix',\n",
       " 'removesuffix',\n",
       " 'replace',\n",
       " 'rfind',\n",
       " 'rindex',\n",
       " 'rjust',\n",
       " 'rpartition',\n",
       " 'rsplit',\n",
       " 'rstrip',\n",
       " 'split',\n",
       " 'splitlines',\n",
       " 'startswith',\n",
       " 'strip',\n",
       " 'swapcase',\n",
       " 'title',\n",
       " 'translate',\n",
       " 'upper',\n",
       " 'zfill']"
      ]
     },
     "execution_count": 21,
     "metadata": {},
     "output_type": "execute_result"
    }
   ],
   "source": [
    "dir(str)"
   ]
  },
  {
   "cell_type": "code",
   "execution_count": null,
   "id": "9016a8f1-5cdb-450e-ba4d-c848a1ef7832",
   "metadata": {},
   "outputs": [],
   "source": []
  },
  {
   "cell_type": "code",
   "execution_count": null,
   "id": "a64f6d05-9b0d-4f7a-b571-42166b46684e",
   "metadata": {},
   "outputs": [],
   "source": []
  }
 ],
 "metadata": {
  "kernelspec": {
   "display_name": "Python 3 (ipykernel)",
   "language": "python",
   "name": "python3"
  },
  "language_info": {
   "codemirror_mode": {
    "name": "ipython",
    "version": 3
   },
   "file_extension": ".py",
   "mimetype": "text/x-python",
   "name": "python",
   "nbconvert_exporter": "python",
   "pygments_lexer": "ipython3",
   "version": "3.12.4"
  }
 },
 "nbformat": 4,
 "nbformat_minor": 5
}
